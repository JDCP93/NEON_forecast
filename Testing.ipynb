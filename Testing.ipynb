{
 "cells": [
  {
   "cell_type": "raw",
   "metadata": {},
   "source": [
    "Import Packages"
   ]
  },
  {
   "cell_type": "code",
   "execution_count": 3,
   "metadata": {},
   "outputs": [],
   "source": [
    "import os\n",
    "import sys\n",
    "import glob\n",
    "import pandas as pd\n",
    "import numpy as np\n",
    "import xarray as xr\n",
    "import datetime\n",
    "import matplotlib.pyplot as plt\n",
    "from itertools import groupby"
   ]
  },
  {
   "cell_type": "raw",
   "metadata": {},
   "source": [
    "Load data and make nice"
   ]
  },
  {
   "cell_type": "code",
   "execution_count": 2,
   "metadata": {},
   "outputs": [],
   "source": [
    "fname = \"data/BART_met.nc\"\n",
    "\n",
    "vars_to_keep = ['Tair','Qair','Rainf','Wind','PSurf','LWdown','SWdown','CO2air']\n",
    "ds = xr.open_dataset(fname, decode_times=False)\n",
    "freq = \"0.5H\"\n",
    "units, reference_date = ds.time.attrs['units'].split('since')\n",
    "df = ds[vars_to_keep].squeeze(dim=[\"x\",\"y\"], drop=True).to_dataframe()\n",
    "start = reference_date.strip().split(\" \")[0].replace(\"-\",\"/\")\n",
    "df['dates'] = pd.date_range(start=start, periods=len(df), freq=freq)\n",
    "df = df.set_index('dates')\n"
   ]
  },
  {
   "cell_type": "raw",
   "metadata": {},
   "source": [
    "Check runs of NaN"
   ]
  },
  {
   "cell_type": "code",
   "execution_count": 3,
   "metadata": {},
   "outputs": [
    {
     "name": "stdout",
     "output_type": "stream",
     "text": [
      "Checking NaN locations for variable  Tair\n",
      "(False, 245472)\n",
      "Checking NaN locations for variable  Qair\n",
      "(False, 245472)\n",
      "Checking NaN locations for variable  Rainf\n",
      "(False, 245472)\n",
      "Checking NaN locations for variable  Wind\n",
      "(False, 245472)\n",
      "Checking NaN locations for variable  PSurf\n",
      "(False, 245472)\n",
      "Checking NaN locations for variable  LWdown\n",
      "(False, 245472)\n",
      "Checking NaN locations for variable  SWdown\n",
      "(False, 245472)\n",
      "Checking NaN locations for variable  CO2air\n",
      "(False, 245472)\n"
     ]
    }
   ],
   "source": [
    "for var in vars_to_keep:\n",
    "    print(\"Checking NaN locations for variable \", var)\n",
    "    for k,g in groupby(df[var].isnull().values):\n",
    "        print((k, sum(1 for i in g))) "
   ]
  },
  {
   "cell_type": "code",
   "execution_count": 4,
   "metadata": {},
   "outputs": [
    {
     "name": "stdout",
     "output_type": "stream",
     "text": [
      "[False False False ... False False False]\n"
     ]
    }
   ],
   "source": [
    "print(df[vars_to_keep[1]].isnull().values)"
   ]
  },
  {
   "cell_type": "code",
   "execution_count": 14,
   "metadata": {},
   "outputs": [
    {
     "name": "stdout",
     "output_type": "stream",
     "text": [
      "[155.48452684 155.48452684 155.48452684 ...   0.           0.\n",
      "   0.        ]\n"
     ]
    }
   ],
   "source": [
    "swdown = df['SWdown'].values\n",
    "print(swdown)"
   ]
  },
  {
   "cell_type": "code",
   "execution_count": 6,
   "metadata": {},
   "outputs": [
    {
     "name": "stdout",
     "output_type": "stream",
     "text": [
      "[   0.            0.            0.         ... 1411.6        1429.30038462\n",
      " 1467.2       ]\n"
     ]
    }
   ],
   "source": [
    "print(np.sort(swdown))"
   ]
  },
  {
   "cell_type": "code",
   "execution_count": 12,
   "metadata": {},
   "outputs": [
    {
     "name": "stdout",
     "output_type": "stream",
     "text": [
      "1467.2\n"
     ]
    }
   ],
   "source": [
    "print(np.max(swdown))"
   ]
  },
  {
   "cell_type": "code",
   "execution_count": 21,
   "metadata": {},
   "outputs": [],
   "source": [
    "fname = \"data/AMF_US-Kon_BASE-BADM_5-5/AMF_US-Kon_BASE_HH_5-5_mod.csv\"\n",
    "df = pd.read_csv(fname,comment='#',na_values=-9999)\n",
    "\n",
    "df = df.rename(columns={'TIMESTAMP_START':'dates',\n",
    "                        'TA_PI_F_1_1_1':'tair',\n",
    "                        'TA_1_1_1':'tair_raw',    \n",
    "                        'RH_PI_F_1_1_1':'rh',\n",
    "                        'SW_IN_1_1_1':'swdown',\n",
    "                        'WS_1_1_1':'wind',\n",
    "                        'P_1_1_1':'rainf',\n",
    "                        'VPD_PI_1_1_1':'vpd',\n",
    "                        'CO2_1_1_1':'co2'})\n",
    "\n",
    "df['dates'] = df['dates'].astype(str)\n",
    "new_dates = []\n",
    "for i in range(len(df)):\n",
    "    year = df['dates'][i][0:4]\n",
    "    month = df['dates'][i][4:6]\n",
    "    day = df['dates'][i][6:8]\n",
    "    hour = df['dates'][i][8:10]\n",
    "    minute = df['dates'][i][10:12]\n",
    "    if day.startswith(\"0\"):\n",
    "        day = day[1:]\n",
    "    if hour.startswith(\"0\"):\n",
    "        hour = hour[1:]\n",
    "    date = \"%s/%s/%s %s:%s\" % (year, month, day, hour, minute)\n",
    "    new_dates.append(date)\n",
    "\n",
    "df['dates'] = new_dates\n",
    "df = df.set_index('dates')\n",
    "df.index = pd.to_datetime(df.index)"
   ]
  },
  {
   "cell_type": "code",
   "execution_count": 22,
   "metadata": {},
   "outputs": [
    {
     "data": {
      "text/plain": [
       "[<matplotlib.lines.Line2D at 0x117a11a30>]"
      ]
     },
     "execution_count": 22,
     "metadata": {},
     "output_type": "execute_result"
    },
    {
     "data": {
      "image/png": "[encoded data removed]",
      "text/plain": [
       "<Figure size 432x288 with 1 Axes>"
      ]
     },
     "metadata": {
      "needs_background": "light"
     },
     "output_type": "display_data"
    }
   ],
   "source": [
    "plt.plot(df.tair)"
   ]
  },
  {
   "cell_type": "code",
   "execution_count": 24,
   "metadata": {},
   "outputs": [
    {
     "data": {
      "text/plain": [
       "[<matplotlib.lines.Line2D at 0x11833cfd0>]"
      ]
     },
     "execution_count": 24,
     "metadata": {},
     "output_type": "execute_result"
    },
    {
     "data": {
      "image/png": "[encoded data removed]",
      "text/plain": [
       "<Figure size 432x288 with 1 Axes>"
      ]
     },
     "metadata": {
      "needs_background": "light"
     },
     "output_type": "display_data"
    }
   ],
   "source": [
    "plt.plot(df.tair_raw)"
   ]
  },
  {
   "cell_type": "code",
   "execution_count": 25,
   "metadata": {},
   "outputs": [],
   "source": [
    "df.tair = np.fmax(df.tair,df.tair_raw)"
   ]
  },
  {
   "cell_type": "code",
   "execution_count": 15,
   "metadata": {},
   "outputs": [
    {
     "data": {
      "text/plain": [
       "40.6191"
      ]
     },
     "execution_count": 15,
     "metadata": {},
     "output_type": "execute_result"
    }
   ],
   "source": [
    "max(df.tair)"
   ]
  },
  {
   "cell_type": "code",
   "execution_count": 16,
   "metadata": {},
   "outputs": [
    {
     "data": {
      "text/plain": [
       "-20.66361506"
      ]
     },
     "execution_count": 16,
     "metadata": {},
     "output_type": "execute_result"
    }
   ],
   "source": [
    "min(df.tair)"
   ]
  },
  {
   "cell_type": "code",
   "execution_count": 26,
   "metadata": {},
   "outputs": [
    {
     "data": {
      "text/plain": [
       "[<matplotlib.lines.Line2D at 0x117a4c670>]"
      ]
     },
     "execution_count": 26,
     "metadata": {},
     "output_type": "execute_result"
    },
    {
     "data": {
      "image/png": "[encoded data removed]",
      "text/plain": [
       "<Figure size 432x288 with 1 Axes>"
      ]
     },
     "metadata": {
      "needs_background": "light"
     },
     "output_type": "display_data"
    }
   ],
   "source": [
    "plt.plot(df.tair)"
   ]
  },
  {
   "cell_type": "raw",
   "metadata": {},
   "source": [
    "###########\n",
    "START AGAIN\n",
    "WITH NOAA FORECASTS"
   ]
  },
  {
   "cell_type": "code",
   "execution_count": 2,
   "metadata": {},
   "outputs": [],
   "source": [
    "import sys\n",
    "import os\n",
    "import numpy as np\n",
    "import xarray as xr\n",
    "import pandas as pd\n",
    "import netCDF4 as nc\n",
    "import datetime\n",
    "import matplotlib.pyplot as plt"
   ]
  },
  {
   "cell_type": "raw",
   "metadata": {},
   "source": [
    "Now we try and find the input data"
   ]
  },
  {
   "cell_type": "code",
   "execution_count": 3,
   "metadata": {},
   "outputs": [],
   "source": [
    "forecast_date = \"2020-12-13\"\n",
    "siteID_list = [\"BART\",\"KONZ\",\"OSBS\",\"SRER\"]\n",
    "#fname_list = os.listdir()"
   ]
  },
  {
   "cell_type": "code",
   "execution_count": 5,
   "metadata": {},
   "outputs": [
    {
     "name": "stdout",
     "output_type": "stream",
     "text": [
      "['BART', 'KONZ', 'OSBS', 'SRER']\n"
     ]
    }
   ],
   "source": [
    "print(siteID_list)"
   ]
  },
  {
   "cell_type": "code",
   "execution_count": 10,
   "metadata": {},
   "outputs": [],
   "source": [
    "fname_list=os.listdir(\"data/forecastcsv/\"+forecast_date+\"/\"+siteID_list[0])"
   ]
  },
  {
   "cell_type": "code",
   "execution_count": 11,
   "metadata": {},
   "outputs": [],
   "source": [
    "fname = fname_list[0]"
   ]
  },
  {
   "cell_type": "code",
   "execution_count": 12,
   "metadata": {},
   "outputs": [
    {
     "name": "stdout",
     "output_type": "stream",
     "text": [
      "CABLEInput_BART_2020-12-13_2021-01-17_ens25.csv\n"
     ]
    }
   ],
   "source": [
    "print(fname)"
   ]
  },
  {
   "cell_type": "code",
   "execution_count": 15,
   "metadata": {},
   "outputs": [
    {
     "data": {
      "text/plain": [
       "'25'"
      ]
     },
     "execution_count": 15,
     "metadata": {},
     "output_type": "execute_result"
    }
   ],
   "source": [
    "fname[-6:-4]"
   ]
  },
  {
   "cell_type": "code",
   "execution_count": 24,
   "metadata": {},
   "outputs": [
    {
     "name": "stdout",
     "output_type": "stream",
     "text": [
      "31.91068 -110.83549\n"
     ]
    }
   ],
   "source": [
    "siteID = \"SRER\"\n",
    "lat = 44.0639*(siteID==\"BART\")+31.91068*(siteID==\"KONZ\")+39.10077*(siteID==\"OSBS\")+31.91068*(siteID==\"SRER\")\n",
    "lon = -71.2874*(siteID==\"BART\")-81.99343*(siteID==\"KONZ\")-96.56309*(siteID==\"OSBS\")-110.83549*(siteID==\"SRER\")\n",
    "\n",
    "print(lat,lon)"
   ]
  },
  {
   "cell_type": "code",
   "execution_count": 18,
   "metadata": {},
   "outputs": [
    {
     "data": {
      "text/plain": [
       "True"
      ]
     },
     "execution_count": 18,
     "metadata": {},
     "output_type": "execute_result"
    }
   ],
   "source": [
    "siteID=\"BART\"\n",
    "siteID==\"BART\""
   ]
  },
  {
   "cell_type": "code",
   "execution_count": 19,
   "metadata": {},
   "outputs": [
    {
     "data": {
      "text/plain": [
       "44.0639"
      ]
     },
     "execution_count": 19,
     "metadata": {},
     "output_type": "execute_result"
    }
   ],
   "source": [
    "44.0639*(siteID==\"BART\")"
   ]
  },
  {
   "cell_type": "code",
   "execution_count": 27,
   "metadata": {},
   "outputs": [
    {
     "name": "stdout",
     "output_type": "stream",
     "text": [
      "data/forecastcsv/2020-12-13/BART/CABLEInput_BART_2020-12-13_2021-01-17_ens25.csv\n"
     ]
    }
   ],
   "source": [
    "forecast_date = \"2020-12-13\"\n",
    "siteID = \"BART\"\n",
    "\n",
    "\n",
    "lat = 44.0639*(siteID==\"BART\")+31.91068*(siteID==\"KONZ\")+39.10077*(siteID==\"OSBS\")+31.91068*(siteID==\"SRER\")\n",
    "lon = -71.2874*(siteID==\"BART\")+-81.99343*(siteID==\"KONZ\")+-96.56309*(siteID==\"OSBS\")+-110.83549*(siteID==\"SRER\")\n",
    "fname_list = os.listdir(\"data/forecastcsv/\"+forecast_date+\"/\"+siteID)\n",
    "fname = fname_list[0]\n",
    "inputcsv = \"data/forecastcsv/\"+forecast_date+\"/\"+siteID+\"/\"+fname\n",
    "print(inputcsv)\n",
    "df = pd.read_csv(inputcsv,comment='#',na_values=-9999)\n",
    "\n",
    "df = df.rename(columns={'time':'dates',\n",
    "                        'Tair':'tair',\n",
    "                        'SWdown':'swdown',\n",
    "                        'Wind':'wind',\n",
    "                        'Rainf':'rainf',\n",
    "                        'Psurf':'psurf',\n",
    "                        'LWdown':'lwdown',\n",
    "                        'Qair':'qair'})\n",
    "\n",
    "# Clean up the dates\n",
    "df['dates'] = df['dates'].astype(str)\n",
    "new_dates = []\n",
    "for i in range(len(df)):\n",
    "    year = df['dates'][i][0:4]\n",
    "    month = df['dates'][i][4:6]\n",
    "    day = df['dates'][i][6:8]\n",
    "    hour = df['dates'][i][8:10]\n",
    "    minute = df['dates'][i][10:12]\n",
    "    if day.startswith(\"0\"):\n",
    "        day = day[1:]\n",
    "    if hour.startswith(\"0\"):\n",
    "        hour = hour[1:]\n",
    "    date = \"%s/%s/%s %s:%s\" % (year, month, day, hour, minute)\n",
    "    new_dates.append(date)\n",
    "\n",
    "df['dates'] = new_dates\n",
    "df = df.set_index('dates')\n",
    "df.index = pd.to_datetime(df.index)\n",
    "\n",
    "# Add CO2\n",
    "df['co2'] = 400"
   ]
  },
  {
   "cell_type": "code",
   "execution_count": 28,
   "metadata": {},
   "outputs": [
    {
     "data": {
      "text/html": [
       "<div>\n",
       "<style scoped>\n",
       "    .dataframe tbody tr th:only-of-type {\n",
       "        vertical-align: middle;\n",
       "    }\n",
       "\n",
       "    .dataframe tbody tr th {\n",
       "        vertical-align: top;\n",
       "    }\n",
       "\n",
       "    .dataframe thead th {\n",
       "        text-align: right;\n",
       "    }\n",
       "</style>\n",
       "<table border=\"1\" class=\"dataframe\">\n",
       "  <thead>\n",
       "    <tr style=\"text-align: right;\">\n",
       "      <th></th>\n",
       "      <th>tair</th>\n",
       "      <th>PSurf</th>\n",
       "      <th>rainf</th>\n",
       "      <th>qair</th>\n",
       "      <th>lwdown</th>\n",
       "      <th>swdown</th>\n",
       "      <th>wind</th>\n",
       "      <th>co2</th>\n",
       "    </tr>\n",
       "    <tr>\n",
       "      <th>dates</th>\n",
       "      <th></th>\n",
       "      <th></th>\n",
       "      <th></th>\n",
       "      <th></th>\n",
       "      <th></th>\n",
       "      <th></th>\n",
       "      <th></th>\n",
       "      <th></th>\n",
       "    </tr>\n",
       "  </thead>\n",
       "  <tbody>\n",
       "    <tr>\n",
       "      <th>2020-12-13 00:00:00</th>\n",
       "      <td>272.116089</td>\n",
       "      <td>95524.742188</td>\n",
       "      <td>0.000074</td>\n",
       "      <td>0.003563</td>\n",
       "      <td>318.000000</td>\n",
       "      <td>0.000000</td>\n",
       "      <td>3.346879</td>\n",
       "      <td>400</td>\n",
       "    </tr>\n",
       "    <tr>\n",
       "      <th>2020-12-13 01:00:00</th>\n",
       "      <td>272.494232</td>\n",
       "      <td>95395.867188</td>\n",
       "      <td>0.000074</td>\n",
       "      <td>0.003677</td>\n",
       "      <td>318.000000</td>\n",
       "      <td>0.000000</td>\n",
       "      <td>3.139083</td>\n",
       "      <td>400</td>\n",
       "    </tr>\n",
       "    <tr>\n",
       "      <th>2020-12-13 02:00:00</th>\n",
       "      <td>272.900635</td>\n",
       "      <td>95285.039062</td>\n",
       "      <td>0.000074</td>\n",
       "      <td>0.003810</td>\n",
       "      <td>318.000000</td>\n",
       "      <td>0.000000</td>\n",
       "      <td>2.913510</td>\n",
       "      <td>400</td>\n",
       "    </tr>\n",
       "    <tr>\n",
       "      <th>2020-12-13 03:00:00</th>\n",
       "      <td>273.327362</td>\n",
       "      <td>95190.882812</td>\n",
       "      <td>0.000074</td>\n",
       "      <td>0.003957</td>\n",
       "      <td>318.000000</td>\n",
       "      <td>0.000000</td>\n",
       "      <td>2.676824</td>\n",
       "      <td>400</td>\n",
       "    </tr>\n",
       "    <tr>\n",
       "      <th>2020-12-13 04:00:00</th>\n",
       "      <td>273.766663</td>\n",
       "      <td>95112.015625</td>\n",
       "      <td>0.000074</td>\n",
       "      <td>0.004115</td>\n",
       "      <td>318.000000</td>\n",
       "      <td>0.000000</td>\n",
       "      <td>2.435687</td>\n",
       "      <td>400</td>\n",
       "    </tr>\n",
       "    <tr>\n",
       "      <th>...</th>\n",
       "      <td>...</td>\n",
       "      <td>...</td>\n",
       "      <td>...</td>\n",
       "      <td>...</td>\n",
       "      <td>...</td>\n",
       "      <td>...</td>\n",
       "      <td>...</td>\n",
       "      <td>...</td>\n",
       "    </tr>\n",
       "    <tr>\n",
       "      <th>2021-01-16 20:00:00</th>\n",
       "      <td>268.445190</td>\n",
       "      <td>96194.132812</td>\n",
       "      <td>0.000000</td>\n",
       "      <td>0.001338</td>\n",
       "      <td>178.169708</td>\n",
       "      <td>175.737915</td>\n",
       "      <td>1.233682</td>\n",
       "      <td>400</td>\n",
       "    </tr>\n",
       "    <tr>\n",
       "      <th>2021-01-16 21:00:00</th>\n",
       "      <td>268.104858</td>\n",
       "      <td>96205.382812</td>\n",
       "      <td>0.000000</td>\n",
       "      <td>0.001382</td>\n",
       "      <td>178.169708</td>\n",
       "      <td>0.000000</td>\n",
       "      <td>1.389222</td>\n",
       "      <td>400</td>\n",
       "    </tr>\n",
       "    <tr>\n",
       "      <th>2021-01-16 22:00:00</th>\n",
       "      <td>267.105316</td>\n",
       "      <td>96225.976562</td>\n",
       "      <td>0.000000</td>\n",
       "      <td>0.001428</td>\n",
       "      <td>178.169708</td>\n",
       "      <td>0.000000</td>\n",
       "      <td>1.590060</td>\n",
       "      <td>400</td>\n",
       "    </tr>\n",
       "    <tr>\n",
       "      <th>2021-01-16 23:00:00</th>\n",
       "      <td>265.353210</td>\n",
       "      <td>96257.343750</td>\n",
       "      <td>0.000000</td>\n",
       "      <td>0.001475</td>\n",
       "      <td>178.169708</td>\n",
       "      <td>0.000000</td>\n",
       "      <td>1.840859</td>\n",
       "      <td>400</td>\n",
       "    </tr>\n",
       "    <tr>\n",
       "      <th>2021-01-17 00:00:00</th>\n",
       "      <td>262.755219</td>\n",
       "      <td>96300.929688</td>\n",
       "      <td>NaN</td>\n",
       "      <td>0.001522</td>\n",
       "      <td>NaN</td>\n",
       "      <td>NaN</td>\n",
       "      <td>2.146281</td>\n",
       "      <td>400</td>\n",
       "    </tr>\n",
       "  </tbody>\n",
       "</table>\n",
       "<p>841 rows × 8 columns</p>\n",
       "</div>"
      ],
      "text/plain": [
       "                           tair         PSurf     rainf      qair      lwdown  \\\n",
       "dates                                                                           \n",
       "2020-12-13 00:00:00  272.116089  95524.742188  0.000074  0.003563  318.000000   \n",
       "2020-12-13 01:00:00  272.494232  95395.867188  0.000074  0.003677  318.000000   \n",
       "2020-12-13 02:00:00  272.900635  95285.039062  0.000074  0.003810  318.000000   \n",
       "2020-12-13 03:00:00  273.327362  95190.882812  0.000074  0.003957  318.000000   \n",
       "2020-12-13 04:00:00  273.766663  95112.015625  0.000074  0.004115  318.000000   \n",
       "...                         ...           ...       ...       ...         ...   \n",
       "2021-01-16 20:00:00  268.445190  96194.132812  0.000000  0.001338  178.169708   \n",
       "2021-01-16 21:00:00  268.104858  96205.382812  0.000000  0.001382  178.169708   \n",
       "2021-01-16 22:00:00  267.105316  96225.976562  0.000000  0.001428  178.169708   \n",
       "2021-01-16 23:00:00  265.353210  96257.343750  0.000000  0.001475  178.169708   \n",
       "2021-01-17 00:00:00  262.755219  96300.929688       NaN  0.001522         NaN   \n",
       "\n",
       "                         swdown      wind  co2  \n",
       "dates                                           \n",
       "2020-12-13 00:00:00    0.000000  3.346879  400  \n",
       "2020-12-13 01:00:00    0.000000  3.139083  400  \n",
       "2020-12-13 02:00:00    0.000000  2.913510  400  \n",
       "2020-12-13 03:00:00    0.000000  2.676824  400  \n",
       "2020-12-13 04:00:00    0.000000  2.435687  400  \n",
       "...                         ...       ...  ...  \n",
       "2021-01-16 20:00:00  175.737915  1.233682  400  \n",
       "2021-01-16 21:00:00    0.000000  1.389222  400  \n",
       "2021-01-16 22:00:00    0.000000  1.590060  400  \n",
       "2021-01-16 23:00:00    0.000000  1.840859  400  \n",
       "2021-01-17 00:00:00         NaN  2.146281  400  \n",
       "\n",
       "[841 rows x 8 columns]"
      ]
     },
     "execution_count": 28,
     "metadata": {},
     "output_type": "execute_result"
    }
   ],
   "source": [
    "df"
   ]
  },
  {
   "cell_type": "code",
   "execution_count": null,
   "metadata": {},
   "outputs": [],
   "source": []
  }
 ],
 "metadata": {
  "kernelspec": {
   "display_name": "Python 3",
   "language": "python",
   "name": "python3"
  },
  "language_info": {
   "codemirror_mode": {
    "name": "ipython",
    "version": 3
   },
   "file_extension": ".py",
   "mimetype": "text/x-python",
   "name": "python",
   "nbconvert_exporter": "python",
   "pygments_lexer": "ipython3",
   "version": "3.8.5"
  }
 },
 "nbformat": 4,
 "nbformat_minor": 4
}
