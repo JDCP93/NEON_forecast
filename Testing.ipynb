{
 "cells": [
  {
   "cell_type": "raw",
   "metadata": {},
   "source": [
    "Import Packages"
   ]
  },
  {
   "cell_type": "code",
   "execution_count": 1,
   "metadata": {},
   "outputs": [],
   "source": [
    "import os\n",
    "import sys\n",
    "import glob\n",
    "import pandas as pd\n",
    "import numpy as np\n",
    "import xarray as xr\n",
    "import datetime\n",
    "import matplotlib.pyplot as plt\n",
    "from itertools import groupby"
   ]
  },
  {
   "cell_type": "raw",
   "metadata": {},
   "source": [
    "Load data and make nice"
   ]
  },
  {
   "cell_type": "code",
   "execution_count": 2,
   "metadata": {},
   "outputs": [],
   "source": [
    "fname = \"data/BART_met.nc\"\n",
    "\n",
    "vars_to_keep = ['Tair','Qair','Rainf','Wind','PSurf','LWdown','SWdown','CO2air']\n",
    "ds = xr.open_dataset(fname, decode_times=False)\n",
    "freq = \"0.5H\"\n",
    "units, reference_date = ds.time.attrs['units'].split('since')\n",
    "df = ds[vars_to_keep].squeeze(dim=[\"x\",\"y\"], drop=True).to_dataframe()\n",
    "start = reference_date.strip().split(\" \")[0].replace(\"-\",\"/\")\n",
    "df['dates'] = pd.date_range(start=start, periods=len(df), freq=freq)\n",
    "df = df.set_index('dates')\n"
   ]
  },
  {
   "cell_type": "raw",
   "metadata": {},
   "source": [
    "Check runs of NaN"
   ]
  },
  {
   "cell_type": "code",
   "execution_count": 3,
   "metadata": {},
   "outputs": [
    {
     "name": "stdout",
     "output_type": "stream",
     "text": [
      "Checking NaN locations for variable  Tair\n",
      "(False, 245472)\n",
      "Checking NaN locations for variable  Qair\n",
      "(False, 245472)\n",
      "Checking NaN locations for variable  Rainf\n",
      "(False, 245472)\n",
      "Checking NaN locations for variable  Wind\n",
      "(False, 245472)\n",
      "Checking NaN locations for variable  PSurf\n",
      "(False, 245472)\n",
      "Checking NaN locations for variable  LWdown\n",
      "(False, 245472)\n",
      "Checking NaN locations for variable  SWdown\n",
      "(False, 245472)\n",
      "Checking NaN locations for variable  CO2air\n",
      "(False, 245472)\n"
     ]
    }
   ],
   "source": [
    "for var in vars_to_keep:\n",
    "    print(\"Checking NaN locations for variable \", var)\n",
    "    for k,g in groupby(df[var].isnull().values):\n",
    "        print((k, sum(1 for i in g))) "
   ]
  },
  {
   "cell_type": "code",
   "execution_count": 4,
   "metadata": {},
   "outputs": [
    {
     "name": "stdout",
     "output_type": "stream",
     "text": [
      "[False False False ... False False False]\n"
     ]
    }
   ],
   "source": [
    "print(df[vars_to_keep[1]].isnull().values)"
   ]
  },
  {
   "cell_type": "code",
   "execution_count": 14,
   "metadata": {},
   "outputs": [
    {
     "name": "stdout",
     "output_type": "stream",
     "text": [
      "[155.48452684 155.48452684 155.48452684 ...   0.           0.\n",
      "   0.        ]\n"
     ]
    }
   ],
   "source": [
    "swdown = df['SWdown'].values\n",
    "print(swdown)"
   ]
  },
  {
   "cell_type": "code",
   "execution_count": 6,
   "metadata": {},
   "outputs": [
    {
     "name": "stdout",
     "output_type": "stream",
     "text": [
      "[   0.            0.            0.         ... 1411.6        1429.30038462\n",
      " 1467.2       ]\n"
     ]
    }
   ],
   "source": [
    "print(np.sort(swdown))"
   ]
  },
  {
   "cell_type": "code",
   "execution_count": 12,
   "metadata": {},
   "outputs": [
    {
     "name": "stdout",
     "output_type": "stream",
     "text": [
      "1467.2\n"
     ]
    }
   ],
   "source": [
    "print(np.max(swdown))"
   ]
  },
  {
   "cell_type": "code",
   "execution_count": null,
   "metadata": {},
   "outputs": [],
   "source": []
  }
 ],
 "metadata": {
  "kernelspec": {
   "display_name": "Python 3",
   "language": "python",
   "name": "python3"
  },
  "language_info": {
   "codemirror_mode": {
    "name": "ipython",
    "version": 3
   },
   "file_extension": ".py",
   "mimetype": "text/x-python",
   "name": "python",
   "nbconvert_exporter": "python",
   "pygments_lexer": "ipython3",
   "version": "3.8.5"
  }
 },
 "nbformat": 4,
 "nbformat_minor": 4
}
